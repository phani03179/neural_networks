{
 "cells": [
  {
   "cell_type": "code",
   "execution_count": 6,
   "metadata": {},
   "outputs": [
    {
     "name": "stdout",
     "output_type": "stream",
     "text": [
      "Epoch 1/10\n",
      "4/4 [==============================] - 0s 52ms/step - loss: 0.7604 - acc: 0.7500\n",
      "Epoch 2/10\n",
      "4/4 [==============================] - 0s 461us/step - loss: 0.7127 - acc: 0.5000\n",
      "Epoch 3/10\n",
      "4/4 [==============================] - 0s 1ms/step - loss: 0.6508 - acc: 0.5000\n",
      "Epoch 4/10\n",
      "4/4 [==============================] - 0s 760us/step - loss: 0.6314 - acc: 0.5000\n",
      "Epoch 5/10\n",
      "4/4 [==============================] - 0s 1ms/step - loss: 0.6115 - acc: 0.7500\n",
      "Epoch 6/10\n",
      "4/4 [==============================] - 0s 461us/step - loss: 0.5869 - acc: 0.7500\n",
      "Epoch 7/10\n",
      "4/4 [==============================] - 0s 604us/step - loss: 0.5618 - acc: 0.7500\n",
      "Epoch 8/10\n",
      "4/4 [==============================] - 0s 1ms/step - loss: 0.5368 - acc: 0.7500\n",
      "Epoch 9/10\n",
      "4/4 [==============================] - 0s 725us/step - loss: 0.5286 - acc: 0.7500\n",
      "Epoch 10/10\n",
      "4/4 [==============================] - 0s 4ms/step - loss: 0.5184 - acc: 0.7500\n",
      "_________________________________________________________________\n",
      "Layer (type)                 Output Shape              Param #   \n",
      "=================================================================\n",
      "dense_7 (Dense)              (None, 5)                 15        \n",
      "_________________________________________________________________\n",
      "dense_8 (Dense)              (None, 1)                 6         \n",
      "=================================================================\n",
      "Total params: 21\n",
      "Trainable params: 21\n",
      "Non-trainable params: 0\n",
      "_________________________________________________________________\n"
     ]
    },
    {
     "data": {
      "text/plain": [
       "<matplotlib.axes._subplots.AxesSubplot at 0x1a25c98a58>"
      ]
     },
     "execution_count": 6,
     "metadata": {},
     "output_type": "execute_result"
    },
    {
     "data": {
      "image/png": "[encoded data removed]",
      "text/plain": [
       "<matplotlib.figure.Figure at 0x1a2570c908>"
      ]
     },
     "metadata": {},
     "output_type": "display_data"
    }
   ],
   "source": [
    "import numpy as np\n",
    "import tensorflow as tf\n",
    "import keras\n",
    "\n",
    "tf.set_random_seed(1)\n",
    "np.random.seed(1)\n",
    "X = np.array([\n",
    "    [0, 0],\n",
    "    [1, 0],\n",
    "    [0, 1],\n",
    "    [1, 1]\n",
    "])\n",
    "y = np.array([0, 1, 1, 0])\n",
    "\n",
    "adam = keras.optimizers.Adam(0.1)\n",
    "\n",
    "model = keras.Sequential()\n",
    "model.add(keras.layers.Dense(5, activation=\"relu\", input_shape = (2,)))\n",
    "model.add(keras.layers.Dense(1, activation=\"sigmoid\"))\n",
    "model.compile(optimizer=adam, loss=\"binary_crossentropy\", metrics=[\"acc\"])\n",
    "model.fit(X, y, batch_size=4, epochs=10)\n",
    "model.summary()\n",
    "from mlxtend.plotting import plot_decision_regions\n",
    "plot_decision_regions(X, y, model)"
   ]
  },
  {
   "cell_type": "code",
   "execution_count": 2,
   "metadata": {},
   "outputs": [],
   "source": [
    "%matplotlib inline"
   ]
  },
  {
   "cell_type": "code",
   "execution_count": null,
   "metadata": {},
   "outputs": [],
   "source": []
  }
 ],
 "metadata": {
  "kernelspec": {
   "display_name": "Python 3",
   "language": "python",
   "name": "python3"
  },
  "language_info": {
   "codemirror_mode": {
    "name": "ipython",
    "version": 3
   },
   "file_extension": ".py",
   "mimetype": "text/x-python",
   "name": "python",
   "nbconvert_exporter": "python",
   "pygments_lexer": "ipython3",
   "version": "3.6.5"
  }
 },
 "nbformat": 4,
 "nbformat_minor": 2
}
